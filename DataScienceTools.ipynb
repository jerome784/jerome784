{
 "cells": [
  {
   "cell_type": "code",
   "execution_count": null,
   "id": "ec9ded07-bdac-48af-8fdd-1105767f433d",
   "metadata": {},
   "outputs": [],
   "source": [
    "# Data Science Tools and Ecosystem"
   ]
  },
  {
   "cell_type": "markdown",
   "id": "ee57d3e4-7fbb-40bc-88a5-bb4fee22895f",
   "metadata": {},
   "source": [
    "In this notebook, Data Science Tools and Ecosystem are summarized.\n"
   ]
  },
  {
   "cell_type": "markdown",
   "id": "4a486fd8-f0ef-4ba5-917b-bf98b8acacdb",
   "metadata": {},
   "source": []
  },
  {
   "cell_type": "markdown",
   "id": "a090cbde-60eb-4767-8c31-941ee7c24aba",
   "metadata": {},
   "source": [
    "Some of the popular languages that Data Scientists use are:\n",
    "1. Python\n",
    "2. R\n",
    "3. SQL\n"
   ]
  },
  {
   "cell_type": "markdown",
   "id": "46649e10-f997-4c3d-827a-3ed8e3a2f6e8",
   "metadata": {},
   "source": [
    "Some of the commonly used libraries used by Data Scientists include:\n",
    "1. Pandas\n",
    "2. NumPy\n",
    "3. Matplotlib\n"
   ]
  },
  {
   "cell_type": "markdown",
   "id": "e010d64a-a579-4791-991e-1ab009bde326",
   "metadata": {},
   "source": [
    "| Data Science Tools      |\n",
    "|-------------------------|\n",
    "|Jupyter Notebook         |\n",
    "|RStudio                  |\n",
    "|Apache Zeppelin          |"
   ]
  },
  {
   "cell_type": "markdown",
   "id": "70b23bc6-dec4-421c-855b-58a691b8bc5c",
   "metadata": {},
   "source": [
    "## Below are a few examples of evaluatig arithemetic expressions in python."
   ]
  },
  {
   "cell_type": "code",
   "execution_count": 4,
   "id": "2723461b-92d1-4094-994e-42c17608f6da",
   "metadata": {},
   "outputs": [
    {
     "data": {
      "text/plain": [
       "17"
      ]
     },
     "execution_count": 4,
     "metadata": {},
     "output_type": "execute_result"
    }
   ],
   "source": [
    "(3*4)+5"
   ]
  },
  {
   "cell_type": "markdown",
   "id": "db3f756a-445d-4a36-ab55-af005e811cd2",
   "metadata": {},
   "source": [
    "200/60"
   ]
  },
  {
   "cell_type": "markdown",
   "id": "b7e7d782-b140-4d2b-85be-39df37e85538",
   "metadata": {},
   "source": [
    "**Objectives:**\n",
    "- List popular languages for Data Science\n",
    "- Identify commonly used libraries in Data Science\n",
    "- Describe essential data science tools\n",
    "- Perform basic arthimetic operations in Python\n",
    "- Convert units using python code"
   ]
  },
  {
   "cell_type": "markdown",
   "id": "c5cdf007-dc04-4012-ab41-c841bcb5b298",
   "metadata": {},
   "source": [
    "##Author\n",
    "Jerome Philip John"
   ]
  },
  {
   "cell_type": "code",
   "execution_count": null,
   "id": "7729cb43-6d3b-49bf-8c84-9e363fecd32b",
   "metadata": {},
   "outputs": [],
   "source": []
  },
  {
   "cell_type": "code",
   "execution_count": null,
   "id": "9510c644-5b7e-4a2c-86cd-0cf8879ab6b7",
   "metadata": {},
   "outputs": [],
   "source": []
  }
 ],
 "metadata": {
  "kernelspec": {
   "display_name": "Python 3 (ipykernel)",
   "language": "python",
   "name": "python3"
  },
  "language_info": {
   "codemirror_mode": {
    "name": "ipython",
    "version": 3
   },
   "file_extension": ".py",
   "mimetype": "text/x-python",
   "name": "python",
   "nbconvert_exporter": "python",
   "pygments_lexer": "ipython3",
   "version": "3.11.9"
  }
 },
 "nbformat": 4,
 "nbformat_minor": 5
}
